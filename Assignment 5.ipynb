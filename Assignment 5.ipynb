{
 "cells": [
  {
   "cell_type": "code",
   "execution_count": 33,
   "id": "9bdf89b7",
   "metadata": {},
   "outputs": [
    {
     "data": {
      "image/png": "[encoded data removed]",
      "text/plain": [
       "<Figure size 432x288 with 1 Axes>"
      ]
     },
     "metadata": {
      "needs_background": "light"
     },
     "output_type": "display_data"
    }
   ],
   "source": [
    "import numpy as np\n",
    "import matplotlib.pyplot as plt\n",
    "import random\n",
    "\n",
    "\n",
    "X0 = [0, 0]\n",
    "y = [[1,0],[-1,0],[0,1],[0,-1]]\n",
    "path = [X0]\n",
    "\n",
    "# Randomly chooses next step\n",
    "def move(X, n):\n",
    "    for i in range(n):\n",
    "        s = random.randint(0,3)\n",
    "        X = [X[0]+y[s][0], X[1]+y[s][1]]\n",
    "        path.append(X)\n",
    "    return np.array(path)\n",
    "\n",
    "# Draws the path\n",
    "def plot(n):\n",
    "    X = move(X0, n)\n",
    "    plt.plot(X[:, 0], X[:, 1])\n",
    "    plt.xlim(-20,20)\n",
    "    plt.ylim(-20,20)\n",
    "    plt.grid()\n",
    "    plt.show()\n",
    "\n",
    "plot(400)\n",
    "\n",
    "        \n"
   ]
  },
  {
   "cell_type": "code",
   "execution_count": 32,
   "id": "980b594c",
   "metadata": {},
   "outputs": [
    {
     "name": "stdout",
     "output_type": "stream",
     "text": [
      "0.9748001564904815\n",
      "[2, 2, 4, 10, 28, 84, 264, 858, 2860, 9724, 33592, 117572, 416024, 1485800, 5348880]\n"
     ]
    }
   ],
   "source": [
    "import math\n",
    "\n",
    "def N(i):\n",
    "    N=[math.comb(2,1)]\n",
    "    for k in range(i):\n",
    "        x=math.comb(2*(k+2),k+2)\n",
    "        for j in range(k+1):\n",
    "            x -=  math.comb(2*(j+1),j+1)*N[-j-1]\n",
    "        N.append(x)\n",
    "    return N\n",
    "\n",
    "N_i = N(500) \n",
    "x=0\n",
    "for i in range(len(N_i)):\n",
    "    x += N_i[i]*0.5**(2*(i+1))\n",
    "    \n",
    "print(x)\n",
    "print(N_i[:15])"
   ]
  },
  {
   "cell_type": "code",
   "execution_count": null,
   "id": "18f6f768",
   "metadata": {},
   "outputs": [],
   "source": []
  }
 ],
 "metadata": {
  "kernelspec": {
   "display_name": "Python 3 (ipykernel)",
   "language": "python",
   "name": "python3"
  },
  "language_info": {
   "codemirror_mode": {
    "name": "ipython",
    "version": 3
   },
   "file_extension": ".py",
   "mimetype": "text/x-python",
   "name": "python",
   "nbconvert_exporter": "python",
   "pygments_lexer": "ipython3",
   "version": "3.9.7"
  }
 },
 "nbformat": 4,
 "nbformat_minor": 5
}
